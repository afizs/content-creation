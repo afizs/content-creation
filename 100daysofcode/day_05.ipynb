{
 "cells": [
  {
   "cell_type": "code",
   "execution_count": 1,
   "id": "2dd66eb3-69fd-48f2-811e-31901925a38e",
   "metadata": {},
   "outputs": [],
   "source": [
    "# decorator in Python \n",
    "\n",
    "def hello():\n",
    "    print('Hello World!')"
   ]
  },
  {
   "cell_type": "code",
   "execution_count": 2,
   "id": "451abc98-c997-4cff-87fc-5eed5ea97764",
   "metadata": {},
   "outputs": [],
   "source": [
    "def super_function(func):\n",
    "    return func()"
   ]
  },
  {
   "cell_type": "code",
   "execution_count": 3,
   "id": "224d9236-fb26-403d-acea-9c5296914d37",
   "metadata": {},
   "outputs": [
    {
     "name": "stdout",
     "output_type": "stream",
     "text": [
      "Hello World!\n"
     ]
    }
   ],
   "source": [
    "super_function(hello)"
   ]
  },
  {
   "cell_type": "code",
   "execution_count": 4,
   "id": "e7117c70-f0ca-4dbb-b7b2-12ccd16a13c0",
   "metadata": {},
   "outputs": [
    {
     "name": "stdout",
     "output_type": "stream",
     "text": [
      "Hello World!\n"
     ]
    }
   ],
   "source": [
    "a = hello \n",
    "a()"
   ]
  },
  {
   "cell_type": "code",
   "execution_count": 48,
   "id": "08bddaf9-e3ba-4fa0-8b76-29b6759796c3",
   "metadata": {},
   "outputs": [],
   "source": [
    "def validate_params(func):\n",
    "    def wrapper(*args, **kwargs):\n",
    "        try:\n",
    "            for arg in args:\n",
    "                if not isinstance(arg, (int, float)):\n",
    "                    raise TypeError\n",
    "            return func(*args, **kwargs)\n",
    "        except TypeError as e:\n",
    "            return 'All the params are not numbers'\n",
    "    return wrapper "
   ]
  },
  {
   "cell_type": "code",
   "execution_count": 49,
   "id": "aa09b92d-d515-4646-860a-e6b845883ef4",
   "metadata": {},
   "outputs": [],
   "source": [
    "@validate_params\n",
    "def sum_of_two(a, b):\n",
    "    return a + b"
   ]
  },
  {
   "cell_type": "code",
   "execution_count": 50,
   "id": "d7b31887-57b2-415b-8af7-867374184fac",
   "metadata": {},
   "outputs": [
    {
     "data": {
      "text/plain": [
       "42"
      ]
     },
     "execution_count": 50,
     "metadata": {},
     "output_type": "execute_result"
    }
   ],
   "source": [
    "sum_of_two(10, 32)"
   ]
  },
  {
   "cell_type": "code",
   "execution_count": 51,
   "id": "e7c4cabe-229f-4fba-8f71-7cfdb516e9a6",
   "metadata": {},
   "outputs": [
    {
     "data": {
      "text/plain": [
       "'All the params are not numbers'"
      ]
     },
     "execution_count": 51,
     "metadata": {},
     "output_type": "execute_result"
    }
   ],
   "source": [
    "sum_of_two(10, 'abc')"
   ]
  },
  {
   "cell_type": "code",
   "execution_count": 26,
   "id": "ce496eaa-09c1-4b0b-a678-ed91fce2866f",
   "metadata": {},
   "outputs": [],
   "source": [
    "# 1. Decorators in Python "
   ]
  },
  {
   "cell_type": "markdown",
   "id": "5bc5f033-408c-45b7-88ae-0df57e93d8d2",
   "metadata": {},
   "source": [
    "###  Let's understand the behaviour of a function \n",
    "\n",
    "Functions takes params as input and returns the output \n",
    "\n",
    "```\n",
    "\n",
    "Params --> Functions --> Output\n",
    "\n",
    "```\n",
    "\n",
    "``` \n",
    "def sum_of_two(a, b):\n",
    "    return a + b\n",
    "```\n",
    "\n",
    "High orders functions can take or return function\n",
    "\n",
    "- Takes function as input and returns the output \n",
    "- Takes param as input and returns function as output \n",
    "\n",
    "example 👇\n"
   ]
  },
  {
   "cell_type": "code",
   "execution_count": 35,
   "id": "29b52178-3c62-43a9-8643-72268c6b6f3e",
   "metadata": {},
   "outputs": [
    {
     "name": "stdout",
     "output_type": "stream",
     "text": [
      "<class 'function'>\n"
     ]
    }
   ],
   "source": [
    "def high_func(func):\n",
    "    return func \n",
    "\n",
    "sum2 = high_func(sum_of_two)\n",
    "print(type(sum2))"
   ]
  },
  {
   "cell_type": "code",
   "execution_count": 36,
   "id": "75a2be6b-2b0f-40b3-a581-6364741e7dc5",
   "metadata": {},
   "outputs": [
    {
     "data": {
      "text/plain": [
       "30"
      ]
     },
     "execution_count": 36,
     "metadata": {},
     "output_type": "execute_result"
    }
   ],
   "source": [
    "sum2(10, 20)"
   ]
  },
  {
   "cell_type": "code",
   "execution_count": 44,
   "id": "489b15f3-a310-47ea-9fbc-c1bde389cc21",
   "metadata": {},
   "outputs": [],
   "source": [
    "def add_banner(func):\n",
    "    print('------------')\n",
    "    func()\n",
    "    print('------------')"
   ]
  },
  {
   "cell_type": "code",
   "execution_count": 45,
   "id": "48f486cf-b6ff-44ae-9408-8e680d56a55d",
   "metadata": {},
   "outputs": [
    {
     "name": "stdout",
     "output_type": "stream",
     "text": [
      "------------\n",
      "Hello Afiz!\n",
      "------------\n"
     ]
    }
   ],
   "source": [
    "def hello():\n",
    "    print('Hello Afiz!')\n",
    "ab = add_banner(hello)"
   ]
  },
  {
   "cell_type": "code",
   "execution_count": 46,
   "id": "665f114c-93bd-4270-b39b-548bb173ccb3",
   "metadata": {},
   "outputs": [
    {
     "name": "stdout",
     "output_type": "stream",
     "text": [
      "------------\n",
      "Hello Afiz!\n",
      "------------\n"
     ]
    }
   ],
   "source": [
    "@add_banner\n",
    "def hello():\n",
    "    print('Hello Afiz!')"
   ]
  },
  {
   "cell_type": "code",
   "execution_count": 5,
   "id": "a0a30c1c-1d7d-4850-b82e-adda76a46964",
   "metadata": {},
   "outputs": [],
   "source": []
  },
  {
   "cell_type": "code",
   "execution_count": 12,
   "id": "96d1c994-f0fd-4cb8-9170-7c166a511883",
   "metadata": {},
   "outputs": [],
   "source": [
    "call_count = 0\n",
    "def count(func):\n",
    "    def wrapper(*args, **kwargs):\n",
    "        global call_count\n",
    "        call_count += 1\n",
    "        return func(*args, **kwargs)\n",
    "    return wrapper"
   ]
  },
  {
   "cell_type": "code",
   "execution_count": 13,
   "id": "7e752f01-7467-4ea0-a206-3e4a4047b839",
   "metadata": {},
   "outputs": [],
   "source": [
    "@count\n",
    "def hello():\n",
    "    print('Hello World!!')"
   ]
  },
  {
   "cell_type": "code",
   "execution_count": 24,
   "id": "afd8d9b2-9254-4bc0-84ae-15cd06deab16",
   "metadata": {},
   "outputs": [
    {
     "name": "stdout",
     "output_type": "stream",
     "text": [
      "Hello World!!\n"
     ]
    }
   ],
   "source": [
    "hello()"
   ]
  },
  {
   "cell_type": "code",
   "execution_count": 18,
   "id": "9b13687c-4666-45bf-9180-ec699e7e58e3",
   "metadata": {},
   "outputs": [
    {
     "data": {
      "text/plain": [
       "2"
      ]
     },
     "execution_count": 18,
     "metadata": {},
     "output_type": "execute_result"
    }
   ],
   "source": [
    "call_count"
   ]
  },
  {
   "cell_type": "code",
   "execution_count": 22,
   "id": "1ca55a47-5187-487d-bfb0-08660b4bf8fb",
   "metadata": {},
   "outputs": [
    {
     "name": "stdout",
     "output_type": "stream",
     "text": [
      "Bye World!!\n"
     ]
    }
   ],
   "source": [
    "@count\n",
    "def bye():\n",
    "    print('Bye World!!')\n",
    "\n",
    "bye()"
   ]
  },
  {
   "cell_type": "code",
   "execution_count": 25,
   "id": "1a7aa4ee-25a8-461d-b07a-2c918fedd32c",
   "metadata": {},
   "outputs": [
    {
     "data": {
      "text/plain": [
       "4"
      ]
     },
     "execution_count": 25,
     "metadata": {},
     "output_type": "execute_result"
    }
   ],
   "source": [
    "call_count"
   ]
  },
  {
   "cell_type": "code",
   "execution_count": 37,
   "id": "b10b7417-0848-4314-bcbc-4f28265c3c8a",
   "metadata": {},
   "outputs": [],
   "source": [
    "def counter(func):\n",
    "    def wrapper(*args, **kwargs):\n",
    "        wrapper.count += 1\n",
    "        return func(*args, **kwargs)\n",
    "    wrapper.count = 0\n",
    "    return wrapper"
   ]
  },
  {
   "cell_type": "code",
   "execution_count": 38,
   "id": "f7afa323-5e39-4a70-b977-ba39f8d94ba3",
   "metadata": {},
   "outputs": [],
   "source": [
    "@counter\n",
    "def func():\n",
    "    ''' my func doc string'''\n",
    "    pass\n",
    "func()"
   ]
  },
  {
   "cell_type": "code",
   "execution_count": 39,
   "id": "2107c99a-4df5-4459-8de8-5c45e3a9ecf4",
   "metadata": {},
   "outputs": [],
   "source": [
    "func()"
   ]
  },
  {
   "cell_type": "code",
   "execution_count": 40,
   "id": "13079977-b18f-4fa0-b190-f0c23c411fe5",
   "metadata": {},
   "outputs": [
    {
     "data": {
      "text/plain": [
       "2"
      ]
     },
     "execution_count": 40,
     "metadata": {},
     "output_type": "execute_result"
    }
   ],
   "source": [
    "func.count"
   ]
  },
  {
   "cell_type": "code",
   "execution_count": 41,
   "id": "881e25e5-9f0d-4514-9247-aaf4009f00b5",
   "metadata": {},
   "outputs": [
    {
     "data": {
      "text/plain": [
       "'wrapper'"
      ]
     },
     "execution_count": 41,
     "metadata": {},
     "output_type": "execute_result"
    }
   ],
   "source": [
    "func.__name__"
   ]
  },
  {
   "cell_type": "code",
   "execution_count": 42,
   "id": "ec38cac9-2066-41eb-8173-822ec513d091",
   "metadata": {},
   "outputs": [],
   "source": [
    "func.__doc__"
   ]
  },
  {
   "cell_type": "code",
   "execution_count": 46,
   "id": "6097bb75-832b-4879-a8fc-89e601e200eb",
   "metadata": {},
   "outputs": [
    {
     "name": "stdout",
     "output_type": "stream",
     "text": [
      "***********\n",
      "Hello Afiz!\n",
      "***********\n"
     ]
    }
   ],
   "source": [
    "# decorator function \n",
    "def add_banner(func): # it accepts any function as input \n",
    "    def wrapper():\n",
    "        print('*'*11) # before calling function\n",
    "        func()\n",
    "        print('*'*11) # after calling function \n",
    "    return wrapper # returns the function \n",
    "        \n",
    "@add_banner # decorating your hello function \n",
    "def hello():\n",
    "    print('Hello Afiz!')\n",
    "    \n",
    "\n",
    "hello()"
   ]
  },
  {
   "cell_type": "code",
   "execution_count": 47,
   "id": "bd46b30f-38f5-4b7d-9a17-5402bf31a708",
   "metadata": {},
   "outputs": [
    {
     "name": "stdout",
     "output_type": "stream",
     "text": [
      "20\n"
     ]
    }
   ],
   "source": [
    "def add_one(func):\n",
    "    def wrapper(*args, **kwargs):\n",
    "        result = func(*args, **kwargs)\n",
    "        return result + 1\n",
    "    return wrapper \n",
    "\n",
    "\n",
    "@add_one\n",
    "def sum_of_two(a, b):\n",
    "    return a + b\n",
    "\n",
    "print(sum_of_two(10, 9)) # output: 20\n",
    "    "
   ]
  },
  {
   "cell_type": "code",
   "execution_count": null,
   "id": "ed2c303c-a2c1-4cbb-bc8a-e8292393d576",
   "metadata": {},
   "outputs": [],
   "source": []
  }
 ],
 "metadata": {
  "kernelspec": {
   "display_name": "default:Python",
   "language": "python",
   "name": "conda-env-default-py"
  },
  "language_info": {
   "codemirror_mode": {
    "name": "ipython",
    "version": 3
   },
   "file_extension": ".py",
   "mimetype": "text/x-python",
   "name": "python",
   "nbconvert_exporter": "python",
   "pygments_lexer": "ipython3",
   "version": "3.9.12"
  }
 },
 "nbformat": 4,
 "nbformat_minor": 5
}
