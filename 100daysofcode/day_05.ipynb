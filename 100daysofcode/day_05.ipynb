{
 "cells": [
  {
   "cell_type": "code",
   "execution_count": 1,
   "id": "2dd66eb3-69fd-48f2-811e-31901925a38e",
   "metadata": {},
   "outputs": [],
   "source": [
    "# decorator in Python \n",
    "\n",
    "def hello():\n",
    "    print('Hello World!')"
   ]
  },
  {
   "cell_type": "code",
   "execution_count": 2,
   "id": "451abc98-c997-4cff-87fc-5eed5ea97764",
   "metadata": {},
   "outputs": [],
   "source": [
    "def super_function(func):\n",
    "    return func()"
   ]
  },
  {
   "cell_type": "code",
   "execution_count": 3,
   "id": "224d9236-fb26-403d-acea-9c5296914d37",
   "metadata": {},
   "outputs": [
    {
     "name": "stdout",
     "output_type": "stream",
     "text": [
      "Hello World!\n"
     ]
    }
   ],
   "source": [
    "super_function(hello)"
   ]
  },
  {
   "cell_type": "code",
   "execution_count": 4,
   "id": "e7117c70-f0ca-4dbb-b7b2-12ccd16a13c0",
   "metadata": {},
   "outputs": [
    {
     "name": "stdout",
     "output_type": "stream",
     "text": [
      "Hello World!\n"
     ]
    }
   ],
   "source": [
    "a = hello \n",
    "a()"
   ]
  },
  {
   "cell_type": "code",
   "execution_count": 25,
   "id": "08bddaf9-e3ba-4fa0-8b76-29b6759796c3",
   "metadata": {},
   "outputs": [],
   "source": [
    "def validate_params(func):\n",
    "    def wrapper(*args, **kwargs):\n",
    "        try:\n",
    "            for arg in args:\n",
    "                if not isinstance(arg, (int, float)):\n",
    "                    raise TypeError\n",
    "            return func(*args, **kwargs)\n",
    "        except TypeError as e:\n",
    "            return 'All the params are not numbers'\n",
    "    return wrapper "
   ]
  },
  {
   "cell_type": "code",
   "execution_count": 22,
   "id": "aa09b92d-d515-4646-860a-e6b845883ef4",
   "metadata": {},
   "outputs": [],
   "source": [
    "@validate_params\n",
    "def sum_of_two(a, b):\n",
    "    return a + b"
   ]
  },
  {
   "cell_type": "code",
   "execution_count": 24,
   "id": "d7b31887-57b2-415b-8af7-867374184fac",
   "metadata": {},
   "outputs": [
    {
     "data": {
      "text/plain": [
       "42"
      ]
     },
     "execution_count": 24,
     "metadata": {},
     "output_type": "execute_result"
    }
   ],
   "source": [
    "sum_of_two(10, 32)"
   ]
  },
  {
   "cell_type": "code",
   "execution_count": null,
   "id": "ce496eaa-09c1-4b0b-a678-ed91fce2866f",
   "metadata": {},
   "outputs": [],
   "source": []
  }
 ],
 "metadata": {
  "kernelspec": {
   "display_name": "default:Python",
   "language": "python",
   "name": "conda-env-default-py"
  },
  "language_info": {
   "codemirror_mode": {
    "name": "ipython",
    "version": 3
   },
   "file_extension": ".py",
   "mimetype": "text/x-python",
   "name": "python",
   "nbconvert_exporter": "python",
   "pygments_lexer": "ipython3",
   "version": "3.9.12"
  }
 },
 "nbformat": 4,
 "nbformat_minor": 5
}
