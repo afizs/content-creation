{
 "cells": [
  {
   "cell_type": "markdown",
   "id": "d609578d-fa9e-4af3-a8ff-c2b0b848e03c",
   "metadata": {},
   "source": [
    "### ⭐️ Remove empty list from the list "
   ]
  },
  {
   "cell_type": "code",
   "execution_count": 1,
   "id": "a2bc9177-041d-4417-ae72-3d3f9556a0f4",
   "metadata": {},
   "outputs": [
    {
     "name": "stdout",
     "output_type": "stream",
     "text": [
      "[1, 2, 34, 54, 232, 43]\n"
     ]
    }
   ],
   "source": [
    "new_list = [1,2,34,[],54,[],232,[],43]\n",
    "\n",
    "# Method 1: Using for loop\n",
    "output_list =[]\n",
    "for num in new_list:\n",
    "    if num != []:\n",
    "        output_list.append(num)\n",
    "print(output_list)"
   ]
  },
  {
   "cell_type": "code",
   "execution_count": 2,
   "id": "a6ec6f0f-4ce9-49c4-9916-655081db7281",
   "metadata": {},
   "outputs": [
    {
     "name": "stdout",
     "output_type": "stream",
     "text": [
      "[1, 2, 34, 54, 232, 43]\n"
     ]
    }
   ],
   "source": [
    "# method 2: Using list comprehension \n",
    "\n",
    "print([num for num in new_list if num != []])"
   ]
  },
  {
   "cell_type": "code",
   "execution_count": 4,
   "id": "76a725f5-fea3-44fd-83c2-73d58d379f72",
   "metadata": {},
   "outputs": [
    {
     "name": "stdout",
     "output_type": "stream",
     "text": [
      "[1, 2, 34, 54, 232, 43]\n"
     ]
    }
   ],
   "source": [
    "# Method 3: Using filter function \n",
    "\n",
    "print(list(filter(None, new_list)))"
   ]
  },
  {
   "cell_type": "code",
   "execution_count": 1,
   "id": "1afa50bf-eb8d-412c-a9bf-9b9d764e0b4f",
   "metadata": {},
   "outputs": [
    {
     "name": "stdout",
     "output_type": "stream",
     "text": [
      "Tim, 20, M\n"
     ]
    }
   ],
   "source": [
    "# Define a Person class with 3 instance varialbes\n",
    "class Person:\n",
    "  def __init__(self, name, age, sex):\n",
    "    self.name = name \n",
    "    self.age = age\n",
    "    self.sex = sex\n",
    "    \n",
    "  def __str__(self):\n",
    "    return f'{self.name}, {self.age}, {self.sex}'\n",
    "\n",
    "  \n",
    "p = Person('Tim', 20, 'M')\n",
    "\n",
    "print(p) # 👉'Tim, 20, M'"
   ]
  },
  {
   "cell_type": "code",
   "execution_count": null,
   "id": "f5b262fd-ad8f-4fe4-bd6f-921018fde287",
   "metadata": {},
   "outputs": [],
   "source": []
  }
 ],
 "metadata": {
  "kernelspec": {
   "display_name": "default:Python",
   "language": "python",
   "name": "conda-env-default-py"
  },
  "language_info": {
   "codemirror_mode": {
    "name": "ipython",
    "version": 3
   },
   "file_extension": ".py",
   "mimetype": "text/x-python",
   "name": "python",
   "nbconvert_exporter": "python",
   "pygments_lexer": "ipython3",
   "version": "3.9.12"
  }
 },
 "nbformat": 4,
 "nbformat_minor": 5
}
