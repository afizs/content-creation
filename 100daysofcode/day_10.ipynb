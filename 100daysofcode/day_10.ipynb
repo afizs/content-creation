{
 "cells": [
  {
   "cell_type": "code",
   "execution_count": 12,
   "id": "5babde4d-8790-493d-a61b-11587e683c8b",
   "metadata": {},
   "outputs": [
    {
     "data": {
      "text/html": [
       "\n",
       "        <iframe\n",
       "            width=\"974\"\n",
       "            height=\"548\"\n",
       "            src=\"https://snappify.io/embed/378d05cd-0996-493f-afa2-43fe3170d9a4\"\n",
       "            frameborder=\"0\"\n",
       "            allowfullscreen\n",
       "            \n",
       "        ></iframe>\n",
       "        "
      ],
      "text/plain": [
       "<IPython.lib.display.IFrame at 0x7f925d64f820>"
      ]
     },
     "execution_count": 12,
     "metadata": {},
     "output_type": "execute_result"
    }
   ],
   "source": [
    "import IPython\n",
    "IPython.display.IFrame('https://snappify.io/embed/378d05cd-0996-493f-afa2-43fe3170d9a4', width=974, height= 548)"
   ]
  },
  {
   "cell_type": "code",
   "execution_count": 15,
   "id": "6fd6a862-92af-42a5-9077-6e1a94401eee",
   "metadata": {},
   "outputs": [
    {
     "data": {
      "text/html": [
       "\n",
       "        <iframe\n",
       "            width=\"974\"\n",
       "            height=\"548\"\n",
       "            src=\"https://snappify.io/embed/378d05cd-0996-493f-afa2-43fe3170d9a4\"\n",
       "            frameborder=\"0\"\n",
       "            allowfullscreen\n",
       "            \n",
       "        ></iframe>\n",
       "        "
      ],
      "text/plain": [
       "<IPython.lib.display.IFrame at 0x7f925d64f550>"
      ]
     },
     "execution_count": 15,
     "metadata": {},
     "output_type": "execute_result"
    }
   ],
   "source": [
    "import IPython\n",
    "src = 'https://snappify.io/embed/378d05cd-0996-493f-afa2-43fe3170d9a4'\n",
    "IPython.display.IFrame(src, width=974, height= 548)"
   ]
  },
  {
   "cell_type": "code",
   "execution_count": 21,
   "id": "c37658c9-3f97-4e03-9cdc-1daa6f7f93c5",
   "metadata": {},
   "outputs": [
    {
     "data": {
      "text/html": [
       "\n",
       "        <iframe\n",
       "            width=\"974\"\n",
       "            height=\"550\"\n",
       "            src=\"https://snappify.io/embed/378d05cd-0996-493f-afa2-43fe3170d9a4\"\n",
       "            frameborder=\"0\"\n",
       "            allowfullscreen\n",
       "            \n",
       "        ></iframe>\n",
       "        "
      ],
      "text/plain": [
       "<IPython.lib.display.IFrame at 0x7f925e558d60>"
      ]
     },
     "execution_count": 21,
     "metadata": {},
     "output_type": "execute_result"
    }
   ],
   "source": []
  },
  {
   "cell_type": "markdown",
   "id": "47fa5925-5110-431e-a59e-95560b0a827e",
   "metadata": {},
   "source": [
    "## format method"
   ]
  },
  {
   "cell_type": "code",
   "execution_count": 6,
   "id": "d47b2ca8-b3a2-4bdf-a14f-776bc6f076f1",
   "metadata": {},
   "outputs": [
    {
     "name": "stdout",
     "output_type": "stream",
     "text": [
      "Afiz Shaik\n",
      "Afiz\n",
      "Shaik\n",
      "😂\n"
     ]
    }
   ],
   "source": [
    "class Name:\n",
    "    def __init__(self, first, last):\n",
    "        self.first = first\n",
    "        self.last = last \n",
    "        \n",
    "    def __format__(self, key):\n",
    "        if key == 'full':\n",
    "            return f'{self.first} {self.last}'\n",
    "        elif key == 'first':\n",
    "            return self.first\n",
    "        elif key == 'last':\n",
    "            return self.last\n",
    "        else:\n",
    "            return '😂'\n",
    "\n",
    "n = Name('Afiz', 'Shaik')\n",
    "print(f'{n:full}')\n",
    "print(f'{n:first}')\n",
    "print(f'{n:last}')\n",
    "print(f'{n}')"
   ]
  },
  {
   "cell_type": "code",
   "execution_count": null,
   "id": "1831a7f0-dd44-4fe5-9bf0-d1afe6f8f8c4",
   "metadata": {},
   "outputs": [],
   "source": []
  }
 ],
 "metadata": {
  "kernelspec": {
   "display_name": "default:Python",
   "language": "python",
   "name": "conda-env-default-py"
  },
  "language_info": {
   "codemirror_mode": {
    "name": "ipython",
    "version": 3
   },
   "file_extension": ".py",
   "mimetype": "text/x-python",
   "name": "python",
   "nbconvert_exporter": "python",
   "pygments_lexer": "ipython3",
   "version": "3.9.12"
  }
 },
 "nbformat": 4,
 "nbformat_minor": 5
}
