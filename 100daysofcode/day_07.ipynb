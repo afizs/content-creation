{
 "cells": [
  {
   "cell_type": "code",
   "execution_count": 6,
   "id": "f6463b79-a98c-4146-950f-2441d8a044e4",
   "metadata": {},
   "outputs": [],
   "source": [
    "!pip install pyqrcode -q"
   ]
  },
  {
   "cell_type": "code",
   "execution_count": 7,
   "id": "83747b0c-4e31-4645-86d3-021b0b40eb2c",
   "metadata": {},
   "outputs": [],
   "source": [
    "import pyqrcode\n",
    "\n",
    "# Generate QR code for https://twitter.com/itsafiz 👇\n",
    "url = pyqrcode.create(\"https://twitter.com/itsafiz\")\n",
    "\n",
    "# Create and save the svg file naming \"myqr.svg\"\n",
    "url.svg('myqr.svg', scale = 6)                 "
   ]
  },
  {
   "cell_type": "code",
   "execution_count": null,
   "id": "aace8cc1-fc6e-4ad4-b1a8-1267fd49420f",
   "metadata": {},
   "outputs": [],
   "source": []
  }
 ],
 "metadata": {
  "kernelspec": {
   "display_name": "default:Python",
   "language": "python",
   "name": "conda-env-default-py"
  },
  "language_info": {
   "codemirror_mode": {
    "name": "ipython",
    "version": 3
   },
   "file_extension": ".py",
   "mimetype": "text/x-python",
   "name": "python",
   "nbconvert_exporter": "python",
   "pygments_lexer": "ipython3",
   "version": "3.9.12"
  }
 },
 "nbformat": 4,
 "nbformat_minor": 5
}
