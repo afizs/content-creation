{
 "cells": [
  {
   "cell_type": "markdown",
   "id": "7595fb35-8ec4-452b-a335-d6a6efe4f5da",
   "metadata": {},
   "source": [
    "## Convert a sentence to pig Latin 🐷 \n",
    "\n",
    "What is Pig Latin (http://mng.bz/YrON)\n",
    "\n",
    "If a word begins with 'aeiou', add 'way' to the end of the word. We have to do this for entire sentence to make it pig latin. "
   ]
  },
  {
   "cell_type": "code",
   "execution_count": 1,
   "id": "43c44c29-da4c-4b86-90f2-a703ff0a7dea",
   "metadata": {},
   "outputs": [
    {
     "data": {
      "text/plain": [
       "'applesway andway bananas'"
      ]
     },
     "execution_count": 1,
     "metadata": {},
     "output_type": "execute_result"
    }
   ],
   "source": [
    "def to_pig_latin(sentence: str)-> str:\n",
    "    new_sentence = ''\n",
    "    for word in sentence.split(' '):\n",
    "        if word[0] in 'aeiou':\n",
    "            new_sentence += word+'way'+ ' '\n",
    "        else:\n",
    "            new_sentence += word + ' '\n",
    "    return new_sentence.strip()\n",
    "\n",
    "to_pig_latin('apples and bananas') "
   ]
  },
  {
   "cell_type": "markdown",
   "id": "c4e5647e-9ff7-4280-8611-7157045d34dc",
   "metadata": {},
   "source": [
    "## ✨ Sorting a string 🪢"
   ]
  },
  {
   "cell_type": "code",
   "execution_count": 2,
   "id": "d91b58a2-8a9c-46c3-8870-a6ee4acf3c49",
   "metadata": {},
   "outputs": [
    {
     "data": {
      "text/plain": [
       "'aelpp'"
      ]
     },
     "execution_count": 2,
     "metadata": {},
     "output_type": "execute_result"
    }
   ],
   "source": [
    "def sort_string(word: str) -> str:\n",
    "    return ''.join(sorted(word))\n",
    "\n",
    "sort_string('apple')"
   ]
  },
  {
   "cell_type": "markdown",
   "id": "4bba6739-b02c-4e08-a9b1-2065fffd6fcc",
   "metadata": {},
   "source": [
    "#### Break down 🔪"
   ]
  },
  {
   "cell_type": "code",
   "execution_count": 3,
   "id": "ba717613-9764-4de7-9cf5-e433b738afdf",
   "metadata": {},
   "outputs": [
    {
     "data": {
      "text/plain": [
       "['a', 'e', 'l', 'p', 'p']"
      ]
     },
     "execution_count": 3,
     "metadata": {},
     "output_type": "execute_result"
    }
   ],
   "source": [
    "sorted('apple')"
   ]
  },
  {
   "cell_type": "code",
   "execution_count": 4,
   "id": "ae3761f5-859e-48a0-b7db-bebb5e96429f",
   "metadata": {},
   "outputs": [
    {
     "data": {
      "text/plain": [
       "'a.e.l.p.p'"
      ]
     },
     "execution_count": 4,
     "metadata": {},
     "output_type": "execute_result"
    }
   ],
   "source": [
    "# join() method takes all items in an iterable and joins them into \n",
    "# one string by string separator\n",
    "'.'.join(['a', 'e', 'l', 'p', 'p'])"
   ]
  },
  {
   "cell_type": "code",
   "execution_count": null,
   "id": "2691cc36-5e7b-4db5-814c-96149d14af92",
   "metadata": {},
   "outputs": [],
   "source": []
  }
 ],
 "metadata": {
  "kernelspec": {
   "display_name": "default:Python",
   "language": "python",
   "name": "conda-env-default-py"
  },
  "language_info": {
   "codemirror_mode": {
    "name": "ipython",
    "version": 3
   },
   "file_extension": ".py",
   "mimetype": "text/x-python",
   "name": "python",
   "nbconvert_exporter": "python",
   "pygments_lexer": "ipython3",
   "version": "3.9.12"
  }
 },
 "nbformat": 4,
 "nbformat_minor": 5
}
