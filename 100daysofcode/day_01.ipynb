{
 "cells": [
  {
   "cell_type": "markdown",
   "id": "7595fb35-8ec4-452b-a335-d6a6efe4f5da",
   "metadata": {},
   "source": [
    "## Convert a sentence to pig Latin 🐷 \n",
    "\n",
    "What is Pig Latin (http://mng.bz/YrON)\n",
    "\n",
    "If a word begins with 'aeiou', add 'way' to the end of the word. We have to do this for entire sentence to make it pig latin. "
   ]
  },
  {
   "cell_type": "code",
   "execution_count": 7,
   "id": "43c44c29-da4c-4b86-90f2-a703ff0a7dea",
   "metadata": {},
   "outputs": [
    {
     "data": {
      "text/plain": [
       "'applesway andway bananas '"
      ]
     },
     "execution_count": 7,
     "metadata": {},
     "output_type": "execute_result"
    }
   ],
   "source": [
    "def to_pig_latin(sentence: str)-> str:\n",
    "    new_sentence = ''\n",
    "    for word in sentence.split(' '):\n",
    "        if word[0] in 'aeiou':\n",
    "            new_sentence += word+'way'+ ' '\n",
    "        else:\n",
    "            new_sentence += word + ' '\n",
    "    return new_sentence\n",
    "\n",
    "to_pig_latin('apples and bananas') "
   ]
  }
 ],
 "metadata": {
  "kernelspec": {
   "display_name": "default:Python",
   "language": "python",
   "name": "conda-env-default-py"
  },
  "language_info": {
   "codemirror_mode": {
    "name": "ipython",
    "version": 3
   },
   "file_extension": ".py",
   "mimetype": "text/x-python",
   "name": "python",
   "nbconvert_exporter": "python",
   "pygments_lexer": "ipython3",
   "version": "3.9.12"
  }
 },
 "nbformat": 4,
 "nbformat_minor": 5
}
