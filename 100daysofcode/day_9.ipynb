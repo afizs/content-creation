{
 "cells": [
  {
   "cell_type": "code",
   "execution_count": 1,
   "id": "6443a0b5-ba8c-4d6e-bf59-288010d33fbc",
   "metadata": {},
   "outputs": [],
   "source": [
    "from collections import OrderedDict"
   ]
  },
  {
   "cell_type": "code",
   "execution_count": 2,
   "id": "fe3958d9-34c9-4c73-9bd5-db489a05a58a",
   "metadata": {},
   "outputs": [
    {
     "name": "stdout",
     "output_type": "stream",
     "text": [
      "OrderedDict([(1, 'Py'), (2, 'thon')])\n"
     ]
    }
   ],
   "source": [
    "d = OrderedDict()\n",
    "d[1] = 'Py'\n",
    "d[2] = 'thon'\n",
    "print(d)"
   ]
  },
  {
   "cell_type": "code",
   "execution_count": 3,
   "id": "a6733d4f-ffdc-452c-bd03-385ba53727d2",
   "metadata": {},
   "outputs": [
    {
     "name": "stdout",
     "output_type": "stream",
     "text": [
      "OrderedDict([(2, 'Py'), (1, 'thon')])\n"
     ]
    }
   ],
   "source": [
    "d2 = OrderedDict()\n",
    "d2[2] = 'Py' \n",
    "d2[1] = 'thon'\n",
    "print(d2)"
   ]
  },
  {
   "cell_type": "code",
   "execution_count": 4,
   "id": "56a53363-3195-4bf6-b02a-538313959a21",
   "metadata": {},
   "outputs": [
    {
     "data": {
      "text/plain": [
       "False"
      ]
     },
     "execution_count": 4,
     "metadata": {},
     "output_type": "execute_result"
    }
   ],
   "source": [
    "d2 == d"
   ]
  },
  {
   "cell_type": "code",
   "execution_count": 6,
   "id": "016ed501-7721-435a-9d76-be7bb1bba3ca",
   "metadata": {},
   "outputs": [
    {
     "name": "stdout",
     "output_type": "stream",
     "text": [
      "Hello Mike\n"
     ]
    }
   ],
   "source": [
    "def hello(name: str) -> None:\n",
    "    print('Hello', end=' ', sep='>>')\n",
    "    print(name)\n",
    "\n",
    "hello('Mike')"
   ]
  },
  {
   "cell_type": "code",
   "execution_count": 10,
   "id": "eb9c6162-38df-43cd-a73a-bdf379fb2d56",
   "metadata": {},
   "outputs": [
    {
     "name": "stdout",
     "output_type": "stream",
     "text": [
      "a = 10 and b = 20\n"
     ]
    }
   ],
   "source": [
    "a = 10\n",
    "b = 20 \n",
    "\n",
    "print(f'{a = } and {b = }')"
   ]
  },
  {
   "cell_type": "code",
   "execution_count": 12,
   "id": "a91532e6-af50-46a8-ba38-4dbe7e53d0e6",
   "metadata": {},
   "outputs": [
    {
     "name": "stdout",
     "output_type": "stream",
     "text": [
      "a = 10 and b = 20\n"
     ]
    }
   ],
   "source": [
    "a = 10\n",
    "b = 20 \n",
    "\n",
    "print(f'a = {a} and b = {b}')"
   ]
  },
  {
   "cell_type": "code",
   "execution_count": 5,
   "id": "2974938a-b419-4b16-aa3d-8348a14513cb",
   "metadata": {},
   "outputs": [
    {
     "name": "stdout",
     "output_type": "stream",
     "text": [
      " xxxxxxxxxxxxxxxxxxxxxxxxxxyyyyyyyyyyyyyyyyyyyyyyyyyyzzzzzzzzzzzzzzzzzzzzzzzzzz \n",
      "  xxxxxxxxxxxxxxxxxxxxxxxxxxyyyyyyyyyyyyyyyyyyyyyyyyyyzzzzzzzzzzzzzzzzzzzzzzzzzz\n",
      "xxxxxxxxxxxxxxxxxxxxxxxxxxyyyyyyyyyyyyyyyyyyyyyyyyyyzzzzzzzzzzzzzzzzzzzzzzzzzz  \n"
     ]
    }
   ],
   "source": [
    "third = 80 //3\n",
    "thirds = f\"{'x'*third}{'y'*third}{'z'*third}\"\n",
    "print(f'{thirds:^80}')\n",
    "print(f'{thirds:>80}')\n",
    "print(f'{thirds:<80}')"
   ]
  },
  {
   "cell_type": "code",
   "execution_count": 7,
   "id": "1bf5483b-eaf3-4531-bbe6-183ea64e0825",
   "metadata": {},
   "outputs": [
    {
     "data": {
      "text/plain": [
       "' aaaaaaaaaaabbbbbbbbbbbcccccccccccdddddddddddeeeeeeeeeeefffffffffffggggggggggg  '"
      ]
     },
     "execution_count": 7,
     "metadata": {},
     "output_type": "execute_result"
    }
   ],
   "source": [
    "import string \n",
    "from itertools import cycle\n",
    "\n",
    "def split(num: int, screen_size=80) -> str:\n",
    "    split_size = screen_size // num \n",
    "    result = ''\n",
    "    for c in cycle(string.ascii_lowercase):\n",
    "        result += f'{c * split_size}'\n",
    "        num -= 1\n",
    "        if not num:\n",
    "            break\n",
    "    return f'{result:^{screen_size}}'\n",
    "\n",
    "split(7)"
   ]
  },
  {
   "cell_type": "code",
   "execution_count": 13,
   "id": "965f3b80-cbe2-464e-8822-d06dd11a96e7",
   "metadata": {},
   "outputs": [],
   "source": [
    "get_char = lambda : cycle(string.ascii_lowercase)"
   ]
  },
  {
   "cell_type": "code",
   "execution_count": 23,
   "id": "6ed7e12b-92aa-4aa7-bef8-341547904835",
   "metadata": {},
   "outputs": [
    {
     "data": {
      "text/plain": [
       "[<itertools.cycle at 0x7f26c1400980>]"
      ]
     },
     "execution_count": 23,
     "metadata": {},
     "output_type": "execute_result"
    }
   ],
   "source": [
    "[cycle(string.ascii_lowercase)]"
   ]
  },
  {
   "cell_type": "code",
   "execution_count": 20,
   "id": "51cdb4c1-0ec2-4f4f-aa62-3fd0d0f347f4",
   "metadata": {},
   "outputs": [],
   "source": [
    "def get_char():\n",
    "    for c in cycle(string.ascii_lowercase):\n",
    "        yield c"
   ]
  },
  {
   "cell_type": "code",
   "execution_count": 21,
   "id": "0d712258-f7e4-4137-930b-ee4244436991",
   "metadata": {},
   "outputs": [
    {
     "data": {
      "text/plain": [
       "<generator object get_char at 0x7f26c0f6ae40>"
      ]
     },
     "execution_count": 21,
     "metadata": {},
     "output_type": "execute_result"
    }
   ],
   "source": [
    "get_char()"
   ]
  },
  {
   "cell_type": "code",
   "execution_count": 37,
   "id": "05708d20-e249-4bd5-8c76-8b43f5acd2a3",
   "metadata": {},
   "outputs": [
    {
     "data": {
      "text/plain": [
       "13"
      ]
     },
     "execution_count": 37,
     "metadata": {},
     "output_type": "execute_result"
    }
   ],
   "source": [
    "80 // 6"
   ]
  },
  {
   "cell_type": "code",
   "execution_count": 38,
   "id": "361ae92e-3afe-4801-9b9c-a9fcee5c94d0",
   "metadata": {},
   "outputs": [
    {
     "data": {
      "text/plain": [
       "78"
      ]
     },
     "execution_count": 38,
     "metadata": {},
     "output_type": "execute_result"
    }
   ],
   "source": [
    "13 * 6"
   ]
  },
  {
   "cell_type": "code",
   "execution_count": null,
   "id": "1734d399-6a0d-4393-ab25-e96fad5deab4",
   "metadata": {},
   "outputs": [],
   "source": [
    "help(cycle)"
   ]
  },
  {
   "cell_type": "code",
   "execution_count": null,
   "id": "06ac7381-ca88-4cbd-b43f-b49f357de63f",
   "metadata": {},
   "outputs": [],
   "source": []
  }
 ],
 "metadata": {
  "kernelspec": {
   "display_name": "default:Python",
   "language": "python",
   "name": "conda-env-default-py"
  },
  "language_info": {
   "codemirror_mode": {
    "name": "ipython",
    "version": 3
   },
   "file_extension": ".py",
   "mimetype": "text/x-python",
   "name": "python",
   "nbconvert_exporter": "python",
   "pygments_lexer": "ipython3",
   "version": "3.9.12"
  }
 },
 "nbformat": 4,
 "nbformat_minor": 5
}
