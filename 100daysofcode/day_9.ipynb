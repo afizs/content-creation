{
 "cells": [
  {
   "cell_type": "code",
   "execution_count": 1,
   "id": "6443a0b5-ba8c-4d6e-bf59-288010d33fbc",
   "metadata": {},
   "outputs": [],
   "source": [
    "from collections import OrderedDict"
   ]
  },
  {
   "cell_type": "code",
   "execution_count": 2,
   "id": "fe3958d9-34c9-4c73-9bd5-db489a05a58a",
   "metadata": {},
   "outputs": [
    {
     "name": "stdout",
     "output_type": "stream",
     "text": [
      "OrderedDict([(1, 'Py'), (2, 'thon')])\n"
     ]
    }
   ],
   "source": [
    "d = OrderedDict()\n",
    "d[1] = 'Py'\n",
    "d[2] = 'thon'\n",
    "print(d)"
   ]
  },
  {
   "cell_type": "code",
   "execution_count": 3,
   "id": "a6733d4f-ffdc-452c-bd03-385ba53727d2",
   "metadata": {},
   "outputs": [
    {
     "name": "stdout",
     "output_type": "stream",
     "text": [
      "OrderedDict([(2, 'Py'), (1, 'thon')])\n"
     ]
    }
   ],
   "source": [
    "d2 = OrderedDict()\n",
    "d2[2] = 'Py' \n",
    "d2[1] = 'thon'\n",
    "print(d2)"
   ]
  },
  {
   "cell_type": "code",
   "execution_count": 4,
   "id": "56a53363-3195-4bf6-b02a-538313959a21",
   "metadata": {},
   "outputs": [
    {
     "data": {
      "text/plain": [
       "False"
      ]
     },
     "execution_count": 4,
     "metadata": {},
     "output_type": "execute_result"
    }
   ],
   "source": [
    "d2 == d"
   ]
  },
  {
   "cell_type": "code",
   "execution_count": 6,
   "id": "016ed501-7721-435a-9d76-be7bb1bba3ca",
   "metadata": {},
   "outputs": [
    {
     "name": "stdout",
     "output_type": "stream",
     "text": [
      "Hello Mike\n"
     ]
    }
   ],
   "source": [
    "def hello(name: str) -> None:\n",
    "    print('Hello', end=' ', sep='>>')\n",
    "    print(name)\n",
    "\n",
    "hello('Mike')"
   ]
  },
  {
   "cell_type": "code",
   "execution_count": 10,
   "id": "eb9c6162-38df-43cd-a73a-bdf379fb2d56",
   "metadata": {},
   "outputs": [
    {
     "name": "stdout",
     "output_type": "stream",
     "text": [
      "a = 10 and b = 20\n"
     ]
    }
   ],
   "source": [
    "a = 10\n",
    "b = 20 \n",
    "\n",
    "print(f'{a = } and {b = }')"
   ]
  },
  {
   "cell_type": "code",
   "execution_count": 12,
   "id": "a91532e6-af50-46a8-ba38-4dbe7e53d0e6",
   "metadata": {},
   "outputs": [
    {
     "name": "stdout",
     "output_type": "stream",
     "text": [
      "a = 10 and b = 20\n"
     ]
    }
   ],
   "source": [
    "a = 10\n",
    "b = 20 \n",
    "\n",
    "print(f'a = {a} and b = {b}')"
   ]
  },
  {
   "cell_type": "code",
   "execution_count": null,
   "id": "2974938a-b419-4b16-aa3d-8348a14513cb",
   "metadata": {},
   "outputs": [],
   "source": []
  }
 ],
 "metadata": {
  "kernelspec": {
   "display_name": "default:Python",
   "language": "python",
   "name": "conda-env-default-py"
  },
  "language_info": {
   "codemirror_mode": {
    "name": "ipython",
    "version": 3
   },
   "file_extension": ".py",
   "mimetype": "text/x-python",
   "name": "python",
   "nbconvert_exporter": "python",
   "pygments_lexer": "ipython3",
   "version": "3.9.12"
  }
 },
 "nbformat": 4,
 "nbformat_minor": 5
}
