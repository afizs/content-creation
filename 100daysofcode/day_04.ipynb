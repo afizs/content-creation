{
 "cells": [
  {
   "cell_type": "markdown",
   "id": "3fbf5b4d-7a18-4463-8ece-bff81ffc76a4",
   "metadata": {},
   "source": [
    "# Loops and Nested Loops in Python \n",
    "\n",
    "- Loops are used, when we have particular task to repeat \n",
    "- Python supports 2 types of loops \n",
    "   - for \n",
    "   - while\n",
    " \n",
    "\n",
    "2/n\n",
    "\n",
    "The for loop is used to iterate over a sequence (list, tuple, string) or other iterable objects. \n",
    "\n",
    "while loop is used to iterate over a block of code until the condition is true. \n",
    "\n"
   ]
  },
  {
   "cell_type": "code",
   "execution_count": 7,
   "id": "fec8508a-fc98-4760-b41f-30b04c7e7895",
   "metadata": {},
   "outputs": [
    {
     "name": "stdout",
     "output_type": "stream",
     "text": [
      "Afiz Afiz Afiz Afiz Afiz Afiz Afiz Afiz Afiz Afiz "
     ]
    }
   ],
   "source": [
    "# 1. print numbers from 1 to 10 using for loop\n",
    "\n",
    "for i in range(1, 11):\n",
    "    print('Afiz', end =' ')"
   ]
  },
  {
   "cell_type": "code",
   "execution_count": 8,
   "id": "ae925eba-cf80-4250-abdb-ac181df071fa",
   "metadata": {},
   "outputs": [
    {
     "name": "stdout",
     "output_type": "stream",
     "text": [
      "Afiz Afiz Afiz Afiz Afiz Afiz Afiz Afiz Afiz Afiz "
     ]
    }
   ],
   "source": [
    "count = 1\n",
    "while count < 11:\n",
    "    print('Afiz', end=' ') \n",
    "    count +=1 "
   ]
  },
  {
   "cell_type": "code",
   "execution_count": 10,
   "id": "956546b4-0847-4b31-94a8-7cc572fbba83",
   "metadata": {},
   "outputs": [
    {
     "name": "stdout",
     "output_type": "stream",
     "text": [
      "5\n",
      "6\n",
      "5\n",
      "6\n"
     ]
    }
   ],
   "source": [
    "# write a program to find the length of each word in the list \n",
    "\n",
    "fruits = ['apple', 'banana','mango', 'orange' ]\n",
    "\n",
    "# for loop is used to iterate over sequences, \n",
    "# and every iteration we get on item form the sequence.\n",
    "for fruit in fruits:\n",
    "    print(len(fruit)) # len function retuns the length"
   ]
  },
  {
   "cell_type": "code",
   "execution_count": 13,
   "id": "bced1c40-b477-4a9d-a50c-cbb4bb8fcf82",
   "metadata": {},
   "outputs": [
    {
     "name": "stdout",
     "output_type": "stream",
     "text": [
      "5\n",
      "6\n",
      "5\n",
      "6\n"
     ]
    }
   ],
   "source": [
    "fruits = ['apple', 'banana','mango', 'orange' ] \n",
    "\n",
    "count = 0 # initial value \n",
    "# while loop run until the conditions is false\n",
    "while count < len(fruits):\n",
    "    print(len(fruits[count]))\n",
    "    # increate count value by 1 after every fruit\n",
    "    count +=1 "
   ]
  },
  {
   "cell_type": "code",
   "execution_count": 14,
   "id": "030bb52b-1dbd-41be-ae9e-ab691480a59c",
   "metadata": {},
   "outputs": [
    {
     "name": "stdout",
     "output_type": "stream",
     "text": [
      "2 x 1 = 2\n",
      "2 x 2 = 4\n",
      "2 x 3 = 6\n",
      "2 x 4 = 8\n",
      "2 x 5 = 10\n",
      "2 x 6 = 12\n",
      "2 x 7 = 14\n",
      "2 x 8 = 16\n",
      "2 x 9 = 18\n",
      "2 x 10 = 20\n"
     ]
    }
   ],
   "source": [
    "for i in range(1,11):\n",
    "    print(f'2 x {i} = {2 * i}')"
   ]
  },
  {
   "cell_type": "code",
   "execution_count": 17,
   "id": "c29a1812-d80b-43b2-9722-e6204b0bf0bf",
   "metadata": {},
   "outputs": [
    {
     "name": "stdout",
     "output_type": "stream",
     "text": [
      "2 x 1 = 2\n",
      "2 x 2 = 4\n",
      "2 x 3 = 6\n",
      "2 x 4 = 8\n",
      "2 x 5 = 10\n",
      "\n",
      "3 x 1 = 3\n",
      "3 x 2 = 6\n",
      "3 x 3 = 9\n",
      "3 x 4 = 12\n",
      "3 x 5 = 15\n",
      "\n",
      "4 x 1 = 4\n",
      "4 x 2 = 8\n",
      "4 x 3 = 12\n",
      "4 x 4 = 16\n",
      "4 x 5 = 20\n",
      "\n",
      "5 x 1 = 5\n",
      "5 x 2 = 10\n",
      "5 x 3 = 15\n",
      "5 x 4 = 20\n",
      "5 x 5 = 25\n",
      "\n",
      "6 x 1 = 6\n",
      "6 x 2 = 12\n",
      "6 x 3 = 18\n",
      "6 x 4 = 24\n",
      "6 x 5 = 30\n",
      "\n",
      "7 x 1 = 7\n",
      "7 x 2 = 14\n",
      "7 x 3 = 21\n",
      "7 x 4 = 28\n",
      "7 x 5 = 35\n",
      "\n",
      "8 x 1 = 8\n",
      "8 x 2 = 16\n",
      "8 x 3 = 24\n",
      "8 x 4 = 32\n",
      "8 x 5 = 40\n",
      "\n",
      "9 x 1 = 9\n",
      "9 x 2 = 18\n",
      "9 x 3 = 27\n",
      "9 x 4 = 36\n",
      "9 x 5 = 45\n",
      "\n",
      "10 x 1 = 10\n",
      "10 x 2 = 20\n",
      "10 x 3 = 30\n",
      "10 x 4 = 40\n",
      "10 x 5 = 50\n",
      "\n"
     ]
    }
   ],
   "source": [
    "count = 2\n",
    "while count < 11:\n",
    "    for i in range(1,6): # update it to any range\n",
    "        print(f'{count} x {i} = {count * i}')\n",
    "    print()\n",
    "    count +=1\n",
    "    "
   ]
  },
  {
   "cell_type": "code",
   "execution_count": 18,
   "id": "0fabe612-930c-4f90-a415-23aef60c2492",
   "metadata": {},
   "outputs": [
    {
     "name": "stdout",
     "output_type": "stream",
     "text": [
      "2 x 1 = 2\n",
      "2 x 2 = 4\n",
      "2 x 3 = 6\n",
      "2 x 4 = 8\n",
      "2 x 5 = 10\n",
      "\n",
      "3 x 1 = 3\n",
      "3 x 2 = 6\n",
      "3 x 3 = 9\n",
      "3 x 4 = 12\n",
      "3 x 5 = 15\n",
      "\n",
      "4 x 1 = 4\n",
      "4 x 2 = 8\n",
      "4 x 3 = 12\n",
      "4 x 4 = 16\n",
      "4 x 5 = 20\n",
      "\n",
      "5 x 1 = 5\n",
      "5 x 2 = 10\n",
      "5 x 3 = 15\n",
      "5 x 4 = 20\n",
      "5 x 5 = 25\n",
      "\n",
      "6 x 1 = 6\n",
      "6 x 2 = 12\n",
      "6 x 3 = 18\n",
      "6 x 4 = 24\n",
      "6 x 5 = 30\n",
      "\n",
      "7 x 1 = 7\n",
      "7 x 2 = 14\n",
      "7 x 3 = 21\n",
      "7 x 4 = 28\n",
      "7 x 5 = 35\n",
      "\n",
      "8 x 1 = 8\n",
      "8 x 2 = 16\n",
      "8 x 3 = 24\n",
      "8 x 4 = 32\n",
      "8 x 5 = 40\n",
      "\n",
      "9 x 1 = 9\n",
      "9 x 2 = 18\n",
      "9 x 3 = 27\n",
      "9 x 4 = 36\n",
      "9 x 5 = 45\n",
      "\n",
      "10 x 1 = 10\n",
      "10 x 2 = 20\n",
      "10 x 3 = 30\n",
      "10 x 4 = 40\n",
      "10 x 5 = 50\n",
      "\n"
     ]
    }
   ],
   "source": [
    "for count in range(2, 11):\n",
    "    for i in range(1,6):\n",
    "        print(f'{count} x {i} = {count * i}')\n",
    "    print()"
   ]
  },
  {
   "cell_type": "code",
   "execution_count": null,
   "id": "949d3cbc-f259-4954-adc3-3a2f34e50043",
   "metadata": {},
   "outputs": [],
   "source": []
  }
 ],
 "metadata": {
  "kernelspec": {
   "display_name": "default:Python",
   "language": "python",
   "name": "conda-env-default-py"
  },
  "language_info": {
   "codemirror_mode": {
    "name": "ipython",
    "version": 3
   },
   "file_extension": ".py",
   "mimetype": "text/x-python",
   "name": "python",
   "nbconvert_exporter": "python",
   "pygments_lexer": "ipython3",
   "version": "3.9.12"
  }
 },
 "nbformat": 4,
 "nbformat_minor": 5
}
