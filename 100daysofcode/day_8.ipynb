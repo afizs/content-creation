{
 "cells": [
  {
   "cell_type": "code",
   "execution_count": 9,
   "id": "82ec0932-5fbb-4a73-be6e-6f9e685d7465",
   "metadata": {},
   "outputs": [
    {
     "name": "stdout",
     "output_type": "stream",
     "text": [
      "Hello, World!\n"
     ]
    }
   ],
   "source": [
    "get_doc = lambda c: c.__doc__\n",
    "\n",
    "@print\n",
    "@str.title\n",
    "@get_doc\n",
    "def hello_world():\n",
    "    '''hello, world!'''\n",
    "    pass"
   ]
  },
  {
   "cell_type": "code",
   "execution_count": 12,
   "id": "d60309bd-06b1-47fd-87e6-bfb794be26ab",
   "metadata": {},
   "outputs": [],
   "source": [
    "hello_world"
   ]
  },
  {
   "cell_type": "code",
   "execution_count": null,
   "id": "7d6bef94-1902-4770-93eb-1e20527b3348",
   "metadata": {},
   "outputs": [],
   "source": []
  }
 ],
 "metadata": {
  "kernelspec": {
   "display_name": "default:Python",
   "language": "python",
   "name": "conda-env-default-py"
  },
  "language_info": {
   "codemirror_mode": {
    "name": "ipython",
    "version": 3
   },
   "file_extension": ".py",
   "mimetype": "text/x-python",
   "name": "python",
   "nbconvert_exporter": "python",
   "pygments_lexer": "ipython3",
   "version": "3.9.12"
  }
 },
 "nbformat": 4,
 "nbformat_minor": 5
}
